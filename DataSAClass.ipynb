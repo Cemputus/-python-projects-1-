{
  "nbformat": 4,
  "nbformat_minor": 0,
  "metadata": {
    "colab": {
      "provenance": [],
      "authorship_tag": "ABX9TyNTFGtVRImXMDPjNiExNzgO"
    },
    "kernelspec": {
      "name": "python3",
      "display_name": "Python 3"
    },
    "language_info": {
      "name": "python"
    }
  },
  "cells": [
    {
      "cell_type": "code",
      "execution_count": 2,
      "metadata": {
        "id": "b56-Vymewsp8"
      },
      "outputs": [],
      "source": [
        "x = 4 * 10 / 3 + 2 - 10 * 42;"
      ]
    },
    {
      "cell_type": "code",
      "source": [
        "n = 0;\n",
        "for i in range (0, 100):\n",
        "  n +=i"
      ],
      "metadata": {
        "id": "b4rEOy7Jw8HO"
      },
      "execution_count": 5,
      "outputs": []
    }
  ]
}